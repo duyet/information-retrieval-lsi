{
 "cells": [
  {
   "cell_type": "code",
   "execution_count": 3,
   "metadata": {},
   "outputs": [],
   "source": [
    "import gensim\n",
    "import os\n",
    "import pickle\n",
    "\n",
    "from sklearn.metrics.pairwise import cosine_similarity\n",
    "import gensim\n",
    "import numpy as np\n",
    "from underthesea import word_tokenize\n",
    "from gensim.models import LsiModel\n",
    "from gensim.corpora import Dictionary"
   ]
  },
  {
   "cell_type": "code",
   "execution_count": 4,
   "metadata": {},
   "outputs": [],
   "source": [
    "data_path = '/Users/admin/personal/master/ir/news_dataset/'\n",
    "data_tokenized_path = '/Users/admin/personal/master/ir/news_dataset_tokenized/'"
   ]
  },
  {
   "cell_type": "code",
   "execution_count": 3,
   "metadata": {},
   "outputs": [
    {
     "data": {
      "text/plain": [
       "43303"
      ]
     },
     "execution_count": 3,
     "metadata": {},
     "output_type": "execute_result"
    }
   ],
   "source": [
    "len(os.listdir(data_path))"
   ]
  },
  {
   "cell_type": "markdown",
   "metadata": {},
   "source": [
    "### tokenize (long task)"
   ]
  },
  {
   "cell_type": "code",
   "execution_count": 124,
   "metadata": {},
   "outputs": [],
   "source": [
    "# corpus_text = []\n",
    "# for file in os.listdir(data_path):\n",
    "#     with open(data_path + file, 'r', encoding='utf-16') as f:\n",
    "#         content = f.read()\n",
    "#     content_tokenized = word_tokenize(content, 'text')\n",
    "#     content_tokenized = content_tokenized.lower()\n",
    "#     corpus_text.append(content_tokenized)\n",
    "    \n",
    "#     with open(data_tokenized_path + file, 'w', encoding='utf-16') as f:\n",
    "#         f.write(content_tokenized)"
   ]
  },
  {
   "cell_type": "markdown",
   "metadata": {},
   "source": [
    "### read tokenized docs"
   ]
  },
  {
   "cell_type": "code",
   "execution_count": 17,
   "metadata": {},
   "outputs": [],
   "source": [
    "# corpus_text = []\n",
    "# for file in os.listdir(data_tokenized_path):\n",
    "#     try:\n",
    "#         with open(data_tokenized_path + file, 'r', encoding='utf-16', errors=\"ignore\") as f:\n",
    "#             content = f.read()\n",
    "#         corpus_text.append(content)\n",
    "#     except:\n",
    "#         pass"
   ]
  },
  {
   "cell_type": "code",
   "execution_count": 18,
   "metadata": {},
   "outputs": [
    {
     "data": {
      "text/plain": [
       "43303"
      ]
     },
     "execution_count": 18,
     "metadata": {},
     "output_type": "execute_result"
    }
   ],
   "source": [
    "len(corpus_text)"
   ]
  },
  {
   "cell_type": "markdown",
   "metadata": {},
   "source": [
    "### build model LSI (long task)"
   ]
  },
  {
   "cell_type": "code",
   "execution_count": 6,
   "metadata": {},
   "outputs": [
    {
     "name": "stdout",
     "output_type": "stream",
     "text": [
      "242962\n"
     ]
    }
   ],
   "source": [
    "# dictionary = Dictionary([doc.split() for doc in corpus_text])\n",
    "# print(len(dictionary))\n",
    "\n",
    "\n",
    "# corpus_bow = [dictionary.doc2bow(doc.split()) for doc in corpus_text]\n",
    "\n",
    "\n",
    "# model = LsiModel(corpus_bow, id2word=dictionary, num_topics=500)\n",
    "\n",
    "# vectorized_corpus = model[corpus_bow]\n",
    "# vectorized_corpus = [np.array([v for i,v in doc]) for doc in vectorized_corpus]"
   ]
  },
  {
   "cell_type": "markdown",
   "metadata": {},
   "source": [
    "### saving"
   ]
  },
  {
   "cell_type": "code",
   "execution_count": 29,
   "metadata": {},
   "outputs": [],
   "source": [
    "############# index - file name mapping\n",
    "# index2name = {}\n",
    "# name2index = {}\n",
    "\n",
    "# for i, doc_name in enumerate(os.listdir(data_path)):\n",
    "#     index2name[i] = doc_name\n",
    "#     name2index[doc_name] = i\n",
    "\n",
    "# with open('doc_name_index_mapping.pickle', 'wb') as handle:\n",
    "#     pickle.dump((index2name, name2index), handle, protocol=pickle.HIGHEST_PROTOCOL)"
   ]
  },
  {
   "cell_type": "code",
   "execution_count": 33,
   "metadata": {},
   "outputs": [],
   "source": [
    "\"\"\"LSI model including: \n",
    "* word dictionary (aka vocab)\n",
    "* model (to vectorize query)\n",
    "* vecorized_corpus (to lookup)\n",
    "\"\"\"\n",
    "# with open('lsi_model.pickle', 'wb') as handle:\n",
    "#     pickle.dump((dictionary, vectorized_corpus, model), handle, protocol=pickle.HIGHEST_PROTOCOL)"
   ]
  },
  {
   "cell_type": "markdown",
   "metadata": {},
   "source": [
    "## Serving"
   ]
  },
  {
   "cell_type": "markdown",
   "metadata": {},
   "source": [
    "### query expansion"
   ]
  },
  {
   "cell_type": "code",
   "execution_count": 109,
   "metadata": {},
   "outputs": [],
   "source": [
    "w2v_model = gensim.models.KeyedVectors.load_word2vec_format('baomoi.model.bin', binary=True)\n",
    "\n",
    "def expand_query(query):\n",
    "    mean_vec = np.zeros(w2v_model.vector_size)\n",
    "    for q in query.split():\n",
    "        if q in w2v_model:\n",
    "            mean_vec +=w2v_model[q]\n",
    "\n",
    "    result = w2v_model.similar_by_vector(mean_vec, 5)\n",
    "    result = [term for term, score in result if score > 0.6]\n",
    "    return result"
   ]
  },
  {
   "cell_type": "markdown",
   "metadata": {},
   "source": [
    "### query"
   ]
  },
  {
   "cell_type": "code",
   "execution_count": 4,
   "metadata": {},
   "outputs": [],
   "source": [
    "with open('lsi_model.pickle', 'rb') as handle:\n",
    "    dictionary, vectorized_corpus, model = pickle.load(handle)"
   ]
  },
  {
   "cell_type": "code",
   "execution_count": 5,
   "metadata": {},
   "outputs": [],
   "source": [
    "with open('doc_name_index_mapping.pickle', 'rb') as handle:\n",
    "    index2name, name2index = pickle.load(handle)"
   ]
  },
  {
   "cell_type": "code",
   "execution_count": null,
   "metadata": {},
   "outputs": [],
   "source": []
  },
  {
   "cell_type": "code",
   "execution_count": 117,
   "metadata": {
    "scrolled": true
   },
   "outputs": [],
   "source": [
    "# obseravtion: những doc đá banh ko chứa từ \"ronaldo\" cũng dc trả về, do những doc có \"ronaldo\" đã được vectorize theo factors có pattern riêng cho bóng đá\n",
    "\n",
    "query = 'cầu thủ ronaldo'"
   ]
  },
  {
   "cell_type": "code",
   "execution_count": 118,
   "metadata": {},
   "outputs": [],
   "source": [
    "def query_corpus(query, use_expansion=False):\n",
    "    expansion = []\n",
    "    query_ = word_tokenize(query, 'text').lower()\n",
    "    if use_expansion:\n",
    "        expansion = expand_query(query_)\n",
    "    \n",
    "    query_bow = dictionary.doc2bow(query_.split() + expansion)\n",
    "    query_lsi = np.array([v for i, v in model[query_bow]])\n",
    "    \n",
    "    result = list(enumerate(cosine_similarity([query_lsi], vectorized_corpus)[0]))\n",
    "    result = sorted(result, key=lambda x:x[1], reverse=True)[:10]\n",
    "    result = [(index2name[i], score) for i, score in result]\n",
    "    return result"
   ]
  },
  {
   "cell_type": "code",
   "execution_count": 119,
   "metadata": {},
   "outputs": [
    {
     "data": {
      "text/plain": [
       "[('TTO_060518_0658.txt', 0.5224573291445995),\n",
       " ('DTR_051220_1427.txt', 0.412814257261465),\n",
       " ('TTO_051227_0451.txt', 0.3827219307718617),\n",
       " ('TTO_050303_2148.txt', 0.3635003766961472),\n",
       " ('NLD_060606_1629.txt', 0.36096540058028753),\n",
       " ('TTO_060521_1725.txt', 0.35713785076727766),\n",
       " ('TTO_051205_1217.txt', 0.3383324732016544),\n",
       " ('NLD_060503_2359.txt', 0.33240354476686806),\n",
       " ('DTR_051220_1509.txt', 0.3309328525140842),\n",
       " ('DTR_051227_1504.txt', 0.3279902776319035)]"
      ]
     },
     "execution_count": 119,
     "metadata": {},
     "output_type": "execute_result"
    }
   ],
   "source": [
    "query_corpus(query)"
   ]
  },
  {
   "cell_type": "code",
   "execution_count": 120,
   "metadata": {},
   "outputs": [
    {
     "data": {
      "text/plain": [
       "[('TTO_060518_0658.txt', 0.5142212763034892),\n",
       " ('DTR_051220_1427.txt', 0.41958707307786813),\n",
       " ('TTO_051227_0451.txt', 0.37733228257730905),\n",
       " ('TTO_060521_1725.txt', 0.36499935754134005),\n",
       " ('TTO_050303_2148.txt', 0.3575417940627501),\n",
       " ('NLD_060606_1629.txt', 0.35367800057398646),\n",
       " ('DTR_051220_1509.txt', 0.3414000904997022),\n",
       " ('TTO_051205_1217.txt', 0.3333947368776999),\n",
       " ('DTR_051227_1504.txt', 0.3300274164401301),\n",
       " ('NLD_060503_2359.txt', 0.3287694289045251)]"
      ]
     },
     "execution_count": 120,
     "metadata": {},
     "output_type": "execute_result"
    }
   ],
   "source": [
    "query_corpus(query, True)"
   ]
  },
  {
   "cell_type": "code",
   "execution_count": 6,
   "metadata": {},
   "outputs": [],
   "source": [
    "def name2content(doc_name):\n",
    "    content=''\n",
    "    with open(data_path + doc_name, 'r', encoding='utf-16', errors=\"ignore\") as f:\n",
    "        content = f.read()\n",
    "    return content"
   ]
  },
  {
   "cell_type": "code",
   "execution_count": 8,
   "metadata": {},
   "outputs": [
    {
     "name": "stdout",
     "output_type": "stream",
     "text": [
      "Triệu tập thêm 3 cựu cầu thủ đội Cảng Sài Gòn\n",
      "\n",
      "Ba cầu thủ này nằm trong danh sách 15 cầu thủ đã tham gia bán độ, tạo điều kiện cho đội SLNA giành chức vô địch mùa bóng 2000-2001. \n",
      "Trong vụ án này, cầu thủ Nguyễn Hữu Thắng của CLB SLNA đã giao cho cầu thủ Trương Tấn Hải của Cảng Sài Gòn 250 triệu đồng, sau đó Hải chia cho 15 cầu thủ tùy theo mức độ đóng góp trong phi vụ bán độ, thấp nhất là 4 triệu, cao nhất là 30 triệu. Cơ quan điều tra đã khởi tố năm cầu thủ của đội Cảng Sài Gòn có liên quan đến vụ án này.\n",
      "\n",
      "M.Q.\n",
      "\n"
     ]
    }
   ],
   "source": [
    "print(name2content('TTO_060518_0658.txt'))"
   ]
  },
  {
   "cell_type": "code",
   "execution_count": 121,
   "metadata": {},
   "outputs": [
    {
     "name": "stdout",
     "output_type": "stream",
     "text": [
      "===================\n",
      "TTO_060518_0658.txt\n",
      "Triệu tập thêm 3 cựu cầu thủ đội Cảng Sài Gòn\n",
      "\n",
      "Ba cầu thủ này nằm trong danh sách 15 cầu thủ đã tham gia bán độ, tạo điều kiện cho đội SLNA giành chức vô địch mùa bóng 2000-2001. \n",
      "Trong vụ án này, cầu thủ Nguyễn Hữu Thắng của CLB SLNA đã giao cho cầu thủ Trương Tấn Hải của Cảng Sài Gòn 250 triệu đồng, sau đó Hải chia cho 15 cầu thủ tùy theo mức độ đóng góp trong phi vụ bán độ, thấp nhất là 4 triệu, cao nhất là 30 triệu. Cơ quan điều tra đã khởi tố năm cầu thủ của đội Cảng Sài Gòn có liên quan đến vụ án này.\n",
      "\n",
      "M.Q.\n",
      "\n",
      "===================\n",
      "DTR_051220_1427.txt\n",
      "Blatter phê phán Chelsea phung phí\n",
      "\n",
      "Chủ tịch LĐBĐ thế giới (FIFA), ông Sepp Blatter đã phê phán mạnh mẽ việc Chelsea dùng quá nhiều tiền về đầu tư các cầu thủ nước ngoài. \n",
      " \n",
      "\"Một CLB chỉ nên có 5 cầu thủ nước ngoài trong đội hình xuất phát, sau đó sẽ xây dựng một hệ thống đào tạo cầu thủ trẻ\", Blatter nói trong bài phóng vấn trên tại chí chính thức của World Cup 2006. \n",
      "\"Nếu Chelsea bị ép buộc chỉ có tối đa 5 cầu thủ nước ngoài trong đội hình khi đó ông chủ Roman Abramovich sẽ không thể có cơ hội vung tiền để mua thêm những cầu thủ xuất sắc\". \n",
      "Tuần trước tại Club World Championship ở Nhật Bản, Blatter đã nói nên có ít nhất 6 cầu thủ nội địa trong đội hình xuất phát để hạn chế các cầu thủ nước ngoài. \n",
      "\"Giải pháp cho \"những cuộc vung tiền\" là cần có con số tối thiểu. Ý kiến của FIFA là mỗi CLB khi ra sân phải có ít nhất 6 cầu thủ có đủ tư cách chơi cho ĐTQG mà CLB đó thi đấu”. \n",
      "Theo An Hà Tiền phong/AFP\n",
      "\n",
      "===================\n",
      "TTO_051227_0451.txt\n",
      "Các cầu thủ liên quan sẽ bị xử lý hành chính, treo giò?\n",
      "\n",
      "- Vì cá nhân không thể tự mình thay đổi kết quả, nội dung trận đấu nên Quốc Vượng đã phải chủ động lôi kéo nhiều cầu thủ khác tham gia. Cơ quan điều tra (CQĐT) đã xác định được các cầu thủ này và họ cũng đã được triệu tập để xem xét, điều tra về những hành vi liên quan. Chúng tôi sẽ cân nhắc trong việc xử lý, những hành vi nào không nhất thiết phải xử lý hình sự sẽ xử lý cách khác. Có thể đề nghị xử lý hành chính, phạt treo giò các cầu thủ trong một khoảng thời gian nào đó... \n",
      "Thời gian qua có nhiều thông tin cho rằng cầu thủ Quốc Anh cũng liên quan đến vụ án do cầu thủ này xuất hiện nhiều lần tại CQĐT, ông có thể nói về cầu thủ này như thế nào? \n",
      "- Việc triệu tập Quốc Anh là công việc của CQĐT để xem xét về những nghi vấn trong các trận đấu. Rõ ràng Quốc Anh có nhiều trận đá dưới sức, trong đó có các trận đã bị xác định có bán độ. Chúng tôi cũng đang xem xét các hành vi của cầu thủ này.\n",
      "\n",
      "M.QUANG (lược ghi theo VTC)\n",
      "\n",
      "===================\n",
      "TTO_060521_1725.txt\n",
      "Chelsea: “Thanh lý” cầu thủ để tiếp tục “shopping” mùa hè\n",
      "\n",
      "Một trong số các cầu thủ sẽ phải rời sân Stamford Bridge là Hernan Crespo, tiền đạo người Argentina đã buộc phải trở lại Chelsea sau mùa giải 2004-2005 rất thành công trong màu áo AC Milan theo một bản hợp đồng cho mượn. \n",
      "“Crespo đã muốn được rời khỏi đội bóng từ mùa giải trước, đặc biệt là sau khi trở về từ San Siro. Chúng tôi đã quyết định để anh ấy ra đi và đang sẵn sàng đàm phán với các đội bóng khác về việc chuyển nhượng của cầu thủ này”, Mourinho trả lời phỏng vấn. \n",
      "Cái tên tiếp theo trong danh sách các cầu thủ “thanh lý” của huấn luyện viên người Bồ Đào Nha là Eidur Gudjohnsen, tiền đạo quốc tế người Iceland. Cầu thủ trẻ 25 tuổi này đã khoác áo Chelsea từ khi huấn luyện viên Claudio Ranieri còn dẫn dắt Chelsea nhưng anh đã phải ngồi dự bị hầu hết cả mùa giải năm nay. \n",
      "Về trường hợp của Gudjohnsen, Mourinho nói: “Eidur là một cầu thủ có đẳng cấp quốc tế, Chelsea cũng rất muốn tiếp tục có sự phục vụ của cầu thủ này nhưng đã đến lúc cần phải bàn bạc với các đội bóng muốn có sự phục vụ của Gudjohnsen về việc chuyển nhượng”. \n",
      "Bốn cầu thủ còn lại trong danh sách “thanh lý” mùa hè này được Mourinho cống bố chiều nay còn có hậu vệ trẻ quốc tịch Đức, Robert Huth, các cầu thủ từng được triệu tập vào U21 tuyển quốc gia Anh như Glen Johnson, Carton Cole và cuối cùng là một cầu thủ trẻ ít tên tuổi Lenny Pidgeley.\n",
      "\n",
      "PHẠM NGỌC DUY tổng hợp\n",
      "\n",
      "===================\n",
      "TTO_050303_2148.txt\n",
      "Buồn vui một trận đấu\n",
      "\n",
      "1. BTC giải bóng đá chuyên nghiệp V-League cần mạnh tay trừng trị những hành vi phi thể thao đã và đang diễn ra ở các sân bóng. Cần áp dụng công nghệ tiên tiến và tăng cường an ninh cho các trận đấu. Cần có biện pháp cứng rắn để trừng trị những tên holigan (như các quốc gia khác đã làm: cấm vào sân xem thể thao suốt đời hoặc ngồi tù) \n",
      "2. Qua hành động của cầu thủ Abbey, tôi thiết nghĩ Ban lãnh đạo đội bóng Bình Dương cũng như BTC giải cần khen thưởng kịp thời để khuyến khích các cầu thủ cũng như BHL các đội bóng. Hình ảnh fair-play này đã nói lên tinh thần nhân đạo giữa người với người (trong khi các cầu thủ còn đang lúng túng với sự kiện này thì Abbey chạy như bay đến nhanh như một mũi tên, đẩy mọi người sang một bên, rồi tức tốc quỳ xuống sơ cứu cho đồng nghiệp... Nếu không được cấp cứu kịp thời có lẽ tính mạng của cầu thủ Cao Van Dung sẽ bị đe dọa như một trường hợp của cầu thủ người Cameroon - Vivien Foe), tính chuyên nghiệp của một cầu thủ (biết làm làm công tác sơ cứu khi có tai nạn, chấn thương xảy ra) hầu như không có ở cầu thủ VN. Qua đó cũng rút ra cho các cầu thủ bài học: \"tránh tối đa những va chạm để không làm bản thân mình và cầu thủ đội bạn bị thương, đủ biết rằng bóng đá có tính quyết liệt rất cao\"\n",
      "\n",
      "TRỊNH LÊ DUY (trinhlehoangtrieu2003@)\n",
      "\n",
      "===================\n",
      "NLD_060606_1629.txt\n",
      "Triệu tập 5 cầu thủ SARA Thành Vinh\n",
      "\n",
      "Sau khi nhận được công văn của Chủ tịch CLB bóng đá SARA Thành Vinh gửi ngày 3-6, Công an Nghệ An đã triệu tập hai cầu thủ Trần Đình Hưng và Nguyễn Đình Thế để lấy lời khai.\n",
      "Hôm qua, 5-6, đội trưởng Đình Duy (4) và thủ môn Mạnh Cường (26) cũng đã bị cơ quan điều tra triệu tập. Một cầu thủ khác của đội bóng đá SARA Thành Vinh cũng được CQĐT gọi hỏi, nhưng cầu thủ này đã “vắng mặt có lý do”. \n",
      "Xin nhắc lại: Trước khi diễn ra trận đấu giữa SARA Thành Vinh và Than Quảng Ninh, chỉ có một mình VĐV Nguyễn Đình Thế đứng dậy phát biểu, tố giác việc một cầu thủ đội bạn gặp gỡ, điện thoại móc nối nhằm bán độ, làm sai lệch tỷ số trận đấu. Công văn số 1 của Chủ tịch CLB SARA Thành Vinh nhấn mạnh tại trận này, một số cầu thủ đã thi đấu “ngoài ý muốn của BHL”, có biểu hiện tiêu cực.\n",
      "\n",
      "Theo Tiền Phong\n",
      "\n",
      "===================\n",
      "DTR_051220_1509.txt\n",
      "Ronaldinho muốn sát cánh cùng Lampard, Henry\n",
      "\n",
      "Ngôi sao người Brazil Ronaldinho khẳng định anh luôn ủng hộ Barcelona mua bộ đôi cầu thủ đang thi đấu tại Anh, là tiền vệ Frank Lampard và tiền đạo Thierry Henry. \n",
      " Cầu thủ người Brazil này rất cảm phục tiền vệ ngôi sao của đội tuyển Anh Lampard và tiền đạo đội tuyển Pháp Henry. Anh rất hứng thú khi nghĩ về viễn cảnh CLB chủ sân Nou Camp bày tỏ sự quan tâm tới Lampard của Chelsea và Henry của Arsenal. \n",
      "Ronaldinho nhấn mạnh: \"Mọi người ở Barcelona đang nói vế việc Thierry và Frank sẽ gia nhập đội chúng tôi. Tôi khổng thể không vui với điều đó\". \n",
      "Ngoài ra, cầu thủ xuất sắc nhất thế giới 2005 cũng nóng lòng chờ ngày chạm trán với Lampard khi Barcelona đụng độ Chelsea ở vòng knockout Champions League. \n",
      "\"Henry là một cầu thủ tuyệt vời và đã hoàn thiện kỹ thuật. Tôi mê xem anh thi đấu. Tôi tôn trọng anh rất nhiều như là một người đàn ông và một cầu thủ bóng đá\". \n",
      "Ronaldinho nói thêm trên News of the World : \"Tôi nghĩ sẽ là điều tuyệt vời nếu CLB có thể làm cho Frank gia nhập đội bóng\". Đêm qua, Ronaldinho cũng đã sánh vai với Lampard trong lễ trao giải thưởng cầu thủ xuất sắc nhất thế giới của FIFA. \n",
      "Theo An Hà Tiền phong\n",
      "\n",
      "===================\n",
      "TTO_051205_1217.txt\n",
      "Thua cũng phải thua cho đẹp\n",
      "\n",
      "Những hình ảnh fair play ấy dường như đã biến mất trong tất cả các cầu thủ U23 VN trong trận đấu hôm qua. \n",
      "Họ cay cú ăn thua ư? Xem trận chung kết, khi Việt Nam bị ghi bàn, lòng tôi chùng hẳn lại. Chợt nghĩ giấc mơ vàng từ bấy nhiêu năm nay của bóng đá Việt Nam chắc phải đợi tiếp. Thế nhưng, cái cách chơi xấu cực kỳ thiếu tinh thần thể thao của các cầu thủ thể hiện sau này càng làm cho tất cả ai yêu bóng đá Việt Nam đều bức xúc. \n",
      "Làm sao không xấu hổ cho được khi ống kính quay cận cảnh 1 cầu thủ Việt Nam ôm 1 cầu thủ áo xanh rồi giương gối lên y như đang đấu Muay Thái. Không xấu hổ sao được khi 1 cầu thủ áo đỏ té xuống vẫn cố tình dùng gầm giày đạp vào 1 cầu thủ Thái Lan. Và còn đó rất nhiều những tình huống giựt chỏ kín, đá quét từ sau… với các cầu thủ đội bạn. \n",
      "Thua là điều không ai muốn, nhưng ở những phút cuối, khi đã thua 3 trái, trong vòng cấm ta vẫn thấy 1 cầu thủ Việt Nam cố tình dùng cùi chỏ hất vào bụng 1 cầu thủ Thái Lan. Làm thế để làm gì? \n",
      "Là 1 người Việt Nam, tôi cảm thấy thật xấu hổ khi ống kính quay chậm chiếu lại những hình ảnh thiếu fair play đó. Con người Việt Nam yêu bóng đá, đội tuyển Việt Nam chơi đẹp đã biến đâu rồi. Chỉ còn hình ảnh 11 chàng trai cộc cằn, ức chế rồi bộc phát đến chơi bóng thiếu kềm chế như Tấn Tài của 1 đêm thi đấu thất bại. \n",
      "Đừng để bạn bè khu vực cười chúng ta không biết chấp nhận thất bại.\n",
      "\n",
      "TRỌNG VĂN\n",
      "\n",
      "===================\n",
      "DTR_051227_1504.txt\n",
      "Lương ngoại binh: Đội giá mà lên\n",
      "\n",
      "Chưa bao giờ việc tìm kiếm ngoại binh chất lượng cao phù hợp với túi tiền của CLB Việt Nam lại khó khăn như lúc này. Thời gian chuẩn bị cho mùa giải mới gần hết nhưng không ít CLB vẫn loay hoay, thậm chí đành bó tay. \n",
      " \n",
      "Ở giải hạng Nhất, mấy tháng nay, hai CLB Huda Huế và CLB BĐ TPHCM ròng rã thử việc hàng chục cầu thủ nước ngoài từ châu Phi đến Nam Mỹ, nhưng rốt cuộc đều \"lắc đầu ngao ngán\" vì chỉ gặp hàng kém chất lượng. \n",
      "Ông Quách Thành Lai, Chủ tịch CLB bóng đá TPHCM, than thở: \"Tôi chấp nhận mức lương 2.000-3.000 USD cùng phí chuyển nhượng 25.000 USD nhưng cả 15 cầu thủ đến thử việc đều bị loại. Thật ra, chúng tôi có thể tìm được cầu thủ giỏi với mức lương cao hơn, nhưng nếu thế sẽ phá vỡ mặt bằng chung và gây mất đoàn kết trong nội bộ cầu thủ. Vì vậy chúng tôi chấp nhận phương án 100% cầu thủ nội\". \n",
      "Huda Huế cũng trong tình cảnh tương tự, nhưng quá \"kẹt\" nên đành ký hợp đồng với 2 cầu thủ ngoại theo kiểu \"có còn hơn không\". \n",
      "Riêng Bình Định, sau cúp Hoàng Đế Quang Trung, cũng ký được hợp đồng với tiền vệ Ekpe, còn tiền đạo Arfred (đều là người Nigeria) khi tỏ ra chơi được một chút lại \"làm eo\" đòi tăng lương, khiến thương lượng hai bên đổ vỡ. Thế là BHL Bình Định lại phải vất vả (lẫn tốn kém) nhờ nhà môi giới tìm một tiền đạo để đủ 5 ngoại binh. \n",
      "Các đội phía Bắc cũng không hơn gì. LG.HN.ACB mới tìm được đúng 1 cầu thủ là tiền vệ Sam ( Nigeria ) và đang đàm phán với 2 cầu thủ khác. Trước đó, chỉ trong 2 tháng đội này cho \"văng\" 14 cầu thủ ngoại vì không đạt được yêu cầu chuyên môn. HLV Lê Khắc Chính cho biết: \"Nếu trình độ cầu thủ khá một chút chúng tôi sẵn sàng trả lương hợp lý nhưng vẫn khó tìm\". \n",
      "Thực tế cũng có khi mức lương chỉ 3.000 USD trở xuống mà vẫn tìm được cầu thủ khá ưng ý, như Misustar Haier Hải Phòng vừa ký với 2 ngoại binh là Tostao (mùa rồi chơi cho GĐT.LA) và Chistopher (2.000 USD/tháng) nhưng không nhiều. \n",
      "Nguyên nhân đầu tiên tạo nên cơn sốt cầu thủ ngoại bất hợp lý hiện nay là tình trạng đi xuống về chất lượng cầu thủ nội, dẫn đến sự lệ thuộc quá đáng vào lực lượng ngoại binh tại các CLB VN. Hiện nay, ngoài Nam Định và P.SLNA có được nguồn cầu thủ trẻ tự đào tạo đạt chất lượng tốt, còn nguồn lực nội các đội khác chỉ dừng ở mức tàm tạm (nếu không muốn nói là kém). \n",
      "Chất lượng nội binh đi xuống buộc các CLB tranh nhau giành giật cầu thủ ngoại (lẫn nội), và đẩy mức lương cầu thủ lên đến phi lý. Bên cạnh đó là sự phá giá của các đại gia. Mở màn là việc Bình Dương trả cho Philani 3.500 USD/tháng, và cao hơn nữa cho Kesley Alves, còn Đà Nẵng kéo Achilefu về với mức lương 6.000 USD/tháng khiến mặt bằng lương của cầu thủ ngoại mùa bóng 2005 vọt lên khủng khiếp. Từ mức 2.000-2.500 USD/tháng cho một cầu thủ giỏi ở các mùa trước bỗng \"đội\" lên trên 4.000 USD/tháng hiện nay. \n",
      "Chưa hết, chính các đại gia cũng áp dụng chiêu \"lấy thịt đè người\" với nhau khi HA.GL trả cho Kesley đến chục ngàn USD/tháng để \"bứt\" tiền đạo này khỏi BD. Rồi BD lại \"nhổ\" được Amaobi khỏi Đà Nẵng và bổ sung thêm chân sút thượng hạng Toledo từ CLB Matsubara (Brazil) với giá không dưới 5.000 USD/tháng. \n",
      "Mức lương cao, nhưng lại không phản ánh đúng trình độ cầu thủ. HLV Lê Khắc Chính kể để chuẩn bị mùa giải 2005, LG.HN.ACB sang Thái Lan thi đau giao hữu với CLB BEC Tero và ở đây ông Chính thấy một số cầu thủ từng thủ việc tại LG.HN.ACB. Hỏi ra mới biết, số cầu thủ này chỉ nhận được mức lương hơn 1.000 USD/tháng, trong khi ở VN họ đòi 3.000 USD. \n",
      "Một chuyên gia nhận xét, \"đánh hơi\" được Việt Nam là một thị trường quá béo bở, các ông bầu, nhà môi giới cầu thủ nước ngoài tha hồ \"hét giá\". Trong khi đó các cầu thủ ngoại đang thi đấu tại VN lại đang ngầm thành lập một liên minh, thông báo cho nhau về tiền lương. Hai lực lượng này nắm rất rõ điểm yếu chung của các CLB bóng đá VN và dựa vào đó để khống chế, thao túng thị trường chuyển nhượng và đẩy mức lương vọt lên cao. \n",
      "Theo Đăng Khoa Tuổi Trẻ\n",
      "\n",
      "===================\n",
      "NLD_060503_2359.txt\n",
      "Hàn Quốc chọn cầu thủ thứ 12\n",
      "\n",
      "Một buổi biểu diễn tại Seoul hôm qua, 3-5. Ảnh: REUTERS CĐV được xem là cầu thủ thứ 12 của tất cả các đội bóng và LĐBĐ Hàn Quốc rất trân trọng “cầu thủ” này bởi sự cổ vũ của họ là một trong những yếu tố giúp đội bóng xứ sở kim chi vào đến bán kết World Cup 2002, giải đấu họ là đồng chủ nhà.Thấy được tầm quan trọng của cầu thủ thứ 12, LĐBĐ Hàn Quốc đã tổ chức cuộc tuyển chọn nhóm CĐV nữ nhằm tiếp sức cho đội tuyển tại Đức. Có đến 10.000 phụ nữ trẻ đẹp đăng ký tham gia.\n",
      "\n",
      "T.Đ\n",
      "\n"
     ]
    }
   ],
   "source": [
    "for doc_name, s in query_corpus(query, True):\n",
    "    print('===================')\n",
    "    print(doc_name)\n",
    "    with open(data_path + doc_name, 'r', encoding='utf-16', errors=\"ignore\") as f:\n",
    "        print(f.read())"
   ]
  },
  {
   "cell_type": "code",
   "execution_count": null,
   "metadata": {},
   "outputs": [],
   "source": []
  }
 ],
 "metadata": {
  "kernelspec": {
   "display_name": "Python 3",
   "language": "python",
   "name": "python3"
  },
  "language_info": {
   "codemirror_mode": {
    "name": "ipython",
    "version": 3
   },
   "file_extension": ".py",
   "mimetype": "text/x-python",
   "name": "python",
   "nbconvert_exporter": "python",
   "pygments_lexer": "ipython3",
   "version": "3.7.3"
  }
 },
 "nbformat": 4,
 "nbformat_minor": 2
}
